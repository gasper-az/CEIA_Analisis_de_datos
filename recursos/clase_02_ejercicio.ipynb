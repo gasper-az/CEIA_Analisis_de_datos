{
 "cells": [
  {
   "cell_type": "markdown",
   "id": "f0ffc1c4",
   "metadata": {},
   "source": [
    "## Análisis de datos - Clase 2"
   ]
  },
  {
   "cell_type": "markdown",
   "id": "87e54f19",
   "metadata": {},
   "source": [
    "#### Actividad: primera inspección del dataset y sus variables\n",
    "\n",
    "Importar y hacer una exploración inicial del dataset datasets/datos.csv para responer las preguntas que se encuentran a continuación.\n",
    "Tip: pueden ser útiles los métodos `head()/tail()`, `info()`, `unique()`,`nunique()`, `value_counts()` y las propiedades `shape` y `columns` de pandas.\n",
    "\n",
    "**Identificar esta información:**\n",
    "\n",
    "1. Número de filas y columnas: \n",
    "2. Nombres de las columnas: \n",
    "3. Variables numéricas (y subtipo): \n",
    "4. Variables categóricas (y subtipo): \n",
    "5. ¿Tiene datos faltanes el dataset?\n"
   ]
  },
  {
   "cell_type": "code",
   "execution_count": 2,
   "id": "82138a32",
   "metadata": {},
   "outputs": [],
   "source": [
    "import pandas as pd\n",
    "import seaborn as sns\n",
    "import matplotlib.pyplot as plt"
   ]
  },
  {
   "cell_type": "code",
   "execution_count": 3,
   "id": "526e954f",
   "metadata": {},
   "outputs": [],
   "source": [
    "# Importar datasets/datos.csv en un df de Pandas\n",
    "df = pd.read_csv(\"../datasets/datos.csv\")"
   ]
  },
  {
   "cell_type": "code",
   "execution_count": 4,
   "id": "fe739d39",
   "metadata": {},
   "outputs": [
    {
     "data": {
      "text/html": [
       "<div>\n",
       "<style scoped>\n",
       "    .dataframe tbody tr th:only-of-type {\n",
       "        vertical-align: middle;\n",
       "    }\n",
       "\n",
       "    .dataframe tbody tr th {\n",
       "        vertical-align: top;\n",
       "    }\n",
       "\n",
       "    .dataframe thead th {\n",
       "        text-align: right;\n",
       "    }\n",
       "</style>\n",
       "<table border=\"1\" class=\"dataframe\">\n",
       "  <thead>\n",
       "    <tr style=\"text-align: right;\">\n",
       "      <th></th>\n",
       "      <th>age</th>\n",
       "      <th>workclass</th>\n",
       "      <th>education</th>\n",
       "      <th>marital-status</th>\n",
       "      <th>occupation</th>\n",
       "      <th>sex</th>\n",
       "      <th>capital-gain</th>\n",
       "      <th>hours-per-week</th>\n",
       "      <th>income</th>\n",
       "    </tr>\n",
       "  </thead>\n",
       "  <tbody>\n",
       "    <tr>\n",
       "      <th>0</th>\n",
       "      <td>39</td>\n",
       "      <td>State-gov</td>\n",
       "      <td>Bachelors</td>\n",
       "      <td>Never-married</td>\n",
       "      <td>Adm-clerical</td>\n",
       "      <td>Male</td>\n",
       "      <td>2174</td>\n",
       "      <td>40</td>\n",
       "      <td>&lt;=50K</td>\n",
       "    </tr>\n",
       "    <tr>\n",
       "      <th>1</th>\n",
       "      <td>50</td>\n",
       "      <td>Self-emp-not-inc</td>\n",
       "      <td>Bachelors</td>\n",
       "      <td>Married-civ-spouse</td>\n",
       "      <td>Exec-managerial</td>\n",
       "      <td>Male</td>\n",
       "      <td>0</td>\n",
       "      <td>13</td>\n",
       "      <td>&lt;=50K</td>\n",
       "    </tr>\n",
       "    <tr>\n",
       "      <th>2</th>\n",
       "      <td>38</td>\n",
       "      <td>Private</td>\n",
       "      <td>HS-grad</td>\n",
       "      <td>Divorced</td>\n",
       "      <td>Handlers-cleaners</td>\n",
       "      <td>Male</td>\n",
       "      <td>0</td>\n",
       "      <td>40</td>\n",
       "      <td>&lt;=50K</td>\n",
       "    </tr>\n",
       "    <tr>\n",
       "      <th>3</th>\n",
       "      <td>53</td>\n",
       "      <td>Private</td>\n",
       "      <td>11th</td>\n",
       "      <td>Married-civ-spouse</td>\n",
       "      <td>Handlers-cleaners</td>\n",
       "      <td>Male</td>\n",
       "      <td>0</td>\n",
       "      <td>40</td>\n",
       "      <td>&lt;=50K</td>\n",
       "    </tr>\n",
       "    <tr>\n",
       "      <th>4</th>\n",
       "      <td>28</td>\n",
       "      <td>Private</td>\n",
       "      <td>Bachelors</td>\n",
       "      <td>Married-civ-spouse</td>\n",
       "      <td>Prof-specialty</td>\n",
       "      <td>Female</td>\n",
       "      <td>0</td>\n",
       "      <td>40</td>\n",
       "      <td>&lt;=50K</td>\n",
       "    </tr>\n",
       "    <tr>\n",
       "      <th>5</th>\n",
       "      <td>37</td>\n",
       "      <td>Private</td>\n",
       "      <td>Masters</td>\n",
       "      <td>Married-civ-spouse</td>\n",
       "      <td>Exec-managerial</td>\n",
       "      <td>Female</td>\n",
       "      <td>0</td>\n",
       "      <td>40</td>\n",
       "      <td>&lt;=50K</td>\n",
       "    </tr>\n",
       "    <tr>\n",
       "      <th>6</th>\n",
       "      <td>49</td>\n",
       "      <td>Private</td>\n",
       "      <td>9th</td>\n",
       "      <td>Married-spouse-absent</td>\n",
       "      <td>Other-service</td>\n",
       "      <td>Female</td>\n",
       "      <td>0</td>\n",
       "      <td>16</td>\n",
       "      <td>&lt;=50K</td>\n",
       "    </tr>\n",
       "    <tr>\n",
       "      <th>7</th>\n",
       "      <td>52</td>\n",
       "      <td>Self-emp-not-inc</td>\n",
       "      <td>HS-grad</td>\n",
       "      <td>Married-civ-spouse</td>\n",
       "      <td>Exec-managerial</td>\n",
       "      <td>Male</td>\n",
       "      <td>0</td>\n",
       "      <td>45</td>\n",
       "      <td>&gt;50K</td>\n",
       "    </tr>\n",
       "    <tr>\n",
       "      <th>8</th>\n",
       "      <td>31</td>\n",
       "      <td>Private</td>\n",
       "      <td>Masters</td>\n",
       "      <td>Never-married</td>\n",
       "      <td>Prof-specialty</td>\n",
       "      <td>Female</td>\n",
       "      <td>14084</td>\n",
       "      <td>50</td>\n",
       "      <td>&gt;50K</td>\n",
       "    </tr>\n",
       "    <tr>\n",
       "      <th>9</th>\n",
       "      <td>42</td>\n",
       "      <td>Private</td>\n",
       "      <td>Bachelors</td>\n",
       "      <td>Married-civ-spouse</td>\n",
       "      <td>Exec-managerial</td>\n",
       "      <td>Male</td>\n",
       "      <td>5178</td>\n",
       "      <td>40</td>\n",
       "      <td>&gt;50K</td>\n",
       "    </tr>\n",
       "  </tbody>\n",
       "</table>\n",
       "</div>"
      ],
      "text/plain": [
       "   age          workclass   education          marital-status  \\\n",
       "0   39          State-gov   Bachelors           Never-married   \n",
       "1   50   Self-emp-not-inc   Bachelors      Married-civ-spouse   \n",
       "2   38            Private     HS-grad                Divorced   \n",
       "3   53            Private        11th      Married-civ-spouse   \n",
       "4   28            Private   Bachelors      Married-civ-spouse   \n",
       "5   37            Private     Masters      Married-civ-spouse   \n",
       "6   49            Private         9th   Married-spouse-absent   \n",
       "7   52   Self-emp-not-inc     HS-grad      Married-civ-spouse   \n",
       "8   31            Private     Masters           Never-married   \n",
       "9   42            Private   Bachelors      Married-civ-spouse   \n",
       "\n",
       "           occupation      sex  capital-gain  hours-per-week income  \n",
       "0        Adm-clerical     Male          2174              40  <=50K  \n",
       "1     Exec-managerial     Male             0              13  <=50K  \n",
       "2   Handlers-cleaners     Male             0              40  <=50K  \n",
       "3   Handlers-cleaners     Male             0              40  <=50K  \n",
       "4      Prof-specialty   Female             0              40  <=50K  \n",
       "5     Exec-managerial   Female             0              40  <=50K  \n",
       "6       Other-service   Female             0              16  <=50K  \n",
       "7     Exec-managerial     Male             0              45   >50K  \n",
       "8      Prof-specialty   Female         14084              50   >50K  \n",
       "9     Exec-managerial     Male          5178              40   >50K  "
      ]
     },
     "execution_count": 4,
     "metadata": {},
     "output_type": "execute_result"
    }
   ],
   "source": [
    "# Visualizar las primeras filas del dataset\n",
    "df.head(10)"
   ]
  },
  {
   "cell_type": "code",
   "execution_count": 5,
   "id": "eccbff6f",
   "metadata": {},
   "outputs": [
    {
     "data": {
      "text/plain": [
       "(32561, 9)"
      ]
     },
     "execution_count": 5,
     "metadata": {},
     "output_type": "execute_result"
    }
   ],
   "source": [
    "# Número de filas y columnas del dataset\n",
    "df.shape"
   ]
  },
  {
   "cell_type": "code",
   "execution_count": 6,
   "id": "627b2514",
   "metadata": {},
   "outputs": [
    {
     "data": {
      "text/plain": [
       "Index(['age', 'workclass', 'education', 'marital-status', 'occupation', 'sex',\n",
       "       'capital-gain', 'hours-per-week', 'income'],\n",
       "      dtype='object')"
      ]
     },
     "execution_count": 6,
     "metadata": {},
     "output_type": "execute_result"
    }
   ],
   "source": [
    "# Nombres de las columnas del dataset\n",
    "df.columns"
   ]
  },
  {
   "cell_type": "code",
   "execution_count": null,
   "id": "82e005b3",
   "metadata": {},
   "outputs": [
    {
     "data": {
      "text/html": [
       "<div>\n",
       "<style scoped>\n",
       "    .dataframe tbody tr th:only-of-type {\n",
       "        vertical-align: middle;\n",
       "    }\n",
       "\n",
       "    .dataframe tbody tr th {\n",
       "        vertical-align: top;\n",
       "    }\n",
       "\n",
       "    .dataframe thead th {\n",
       "        text-align: right;\n",
       "    }\n",
       "</style>\n",
       "<table border=\"1\" class=\"dataframe\">\n",
       "  <thead>\n",
       "    <tr style=\"text-align: right;\">\n",
       "      <th></th>\n",
       "      <th>age</th>\n",
       "      <th>capital-gain</th>\n",
       "      <th>hours-per-week</th>\n",
       "    </tr>\n",
       "  </thead>\n",
       "  <tbody>\n",
       "    <tr>\n",
       "      <th>count</th>\n",
       "      <td>32561.000000</td>\n",
       "      <td>32561.000000</td>\n",
       "      <td>32561.000000</td>\n",
       "    </tr>\n",
       "    <tr>\n",
       "      <th>mean</th>\n",
       "      <td>38.581647</td>\n",
       "      <td>1077.648844</td>\n",
       "      <td>40.437456</td>\n",
       "    </tr>\n",
       "    <tr>\n",
       "      <th>std</th>\n",
       "      <td>13.640433</td>\n",
       "      <td>7385.292085</td>\n",
       "      <td>12.347429</td>\n",
       "    </tr>\n",
       "    <tr>\n",
       "      <th>min</th>\n",
       "      <td>17.000000</td>\n",
       "      <td>0.000000</td>\n",
       "      <td>1.000000</td>\n",
       "    </tr>\n",
       "    <tr>\n",
       "      <th>25%</th>\n",
       "      <td>28.000000</td>\n",
       "      <td>0.000000</td>\n",
       "      <td>40.000000</td>\n",
       "    </tr>\n",
       "    <tr>\n",
       "      <th>50%</th>\n",
       "      <td>37.000000</td>\n",
       "      <td>0.000000</td>\n",
       "      <td>40.000000</td>\n",
       "    </tr>\n",
       "    <tr>\n",
       "      <th>75%</th>\n",
       "      <td>48.000000</td>\n",
       "      <td>0.000000</td>\n",
       "      <td>45.000000</td>\n",
       "    </tr>\n",
       "    <tr>\n",
       "      <th>max</th>\n",
       "      <td>90.000000</td>\n",
       "      <td>99999.000000</td>\n",
       "      <td>99.000000</td>\n",
       "    </tr>\n",
       "  </tbody>\n",
       "</table>\n",
       "</div>"
      ],
      "text/plain": [
       "                age  capital-gain  hours-per-week\n",
       "count  32561.000000  32561.000000    32561.000000\n",
       "mean      38.581647   1077.648844       40.437456\n",
       "std       13.640433   7385.292085       12.347429\n",
       "min       17.000000      0.000000        1.000000\n",
       "25%       28.000000      0.000000       40.000000\n",
       "50%       37.000000      0.000000       40.000000\n",
       "75%       48.000000      0.000000       45.000000\n",
       "max       90.000000  99999.000000       99.000000"
      ]
     },
     "execution_count": 7,
     "metadata": {},
     "output_type": "execute_result"
    }
   ],
   "source": [
    "# Información general del dataset\n",
    "df.describe()"
   ]
  },
  {
   "cell_type": "code",
   "execution_count": null,
   "id": "a864fae5",
   "metadata": {},
   "outputs": [
    {
     "name": "stdout",
     "output_type": "stream",
     "text": [
      "<class 'pandas.core.frame.DataFrame'>\n",
      "RangeIndex: 32561 entries, 0 to 32560\n",
      "Data columns (total 9 columns):\n",
      " #   Column          Non-Null Count  Dtype \n",
      "---  ------          --------------  ----- \n",
      " 0   age             32561 non-null  int64 \n",
      " 1   workclass       32561 non-null  object\n",
      " 2   education       32561 non-null  object\n",
      " 3   marital-status  32561 non-null  object\n",
      " 4   occupation      32561 non-null  object\n",
      " 5   sex             32561 non-null  object\n",
      " 6   capital-gain    32561 non-null  int64 \n",
      " 7   hours-per-week  32561 non-null  int64 \n",
      " 8   income          32561 non-null  object\n",
      "dtypes: int64(3), object(6)\n",
      "memory usage: 2.2+ MB\n"
     ]
    }
   ],
   "source": [
    "df.info()"
   ]
  },
  {
   "cell_type": "markdown",
   "id": "97c7c749",
   "metadata": {},
   "source": [
    "# Numéricas\n",
    "\n",
    "- age (continua)\n",
    "- capital-gain (continua)\n",
    "- hours-per-week (discreta)\n",
    "\n",
    "# Categóricas\n",
    "\n",
    "- workclass (nominal)\n",
    "- education (ordinal)\n",
    "- marital-status (nominal)\n",
    "- occupation (nominal)\n",
    "- sex (nominal)\n",
    "- income (ordinal)"
   ]
  },
  {
   "cell_type": "code",
   "execution_count": 13,
   "id": "3d5e0076",
   "metadata": {},
   "outputs": [
    {
     "data": {
      "text/plain": [
       "age               0\n",
       "workclass         0\n",
       "education         0\n",
       "marital-status    0\n",
       "occupation        0\n",
       "sex               0\n",
       "capital-gain      0\n",
       "hours-per-week    0\n",
       "income            0\n",
       "dtype: int64"
      ]
     },
     "execution_count": 13,
     "metadata": {},
     "output_type": "execute_result"
    }
   ],
   "source": [
    "df.isnull().sum()"
   ]
  },
  {
   "cell_type": "code",
   "execution_count": 12,
   "id": "b2c4260b",
   "metadata": {},
   "outputs": [
    {
     "data": {
      "text/plain": [
       "age               0\n",
       "workclass         0\n",
       "education         0\n",
       "marital-status    0\n",
       "occupation        0\n",
       "sex               0\n",
       "capital-gain      0\n",
       "hours-per-week    0\n",
       "income            0\n",
       "dtype: int64"
      ]
     },
     "execution_count": 12,
     "metadata": {},
     "output_type": "execute_result"
    }
   ],
   "source": [
    "df.isna().sum()"
   ]
  },
  {
   "cell_type": "code",
   "execution_count": 15,
   "id": "2434ed50",
   "metadata": {},
   "outputs": [
    {
     "data": {
      "text/plain": [
       "age                73\n",
       "workclass           9\n",
       "education          16\n",
       "marital-status      7\n",
       "occupation         15\n",
       "sex                 2\n",
       "capital-gain      119\n",
       "hours-per-week     94\n",
       "income              2\n",
       "dtype: int64"
      ]
     },
     "execution_count": 15,
     "metadata": {},
     "output_type": "execute_result"
    }
   ],
   "source": [
    "df.nunique()"
   ]
  },
  {
   "cell_type": "code",
   "execution_count": 16,
   "id": "c8bcf2f1",
   "metadata": {},
   "outputs": [
    {
     "data": {
      "text/plain": [
       "age  workclass          education      marital-status       occupation          sex      capital-gain  hours-per-week  income\n",
       "23    Private            HS-grad        Never-married        Adm-clerical        Female  0             40              <=50K     22\n",
       "33    Private            HS-grad        Married-civ-spouse   Craft-repair        Male    0             40              <=50K     18\n",
       "35    Private            HS-grad        Married-civ-spouse   Craft-repair        Male    0             40              <=50K     18\n",
       "23    Private            HS-grad        Never-married        Craft-repair        Male    0             40              <=50K     18\n",
       "20    ?                  Some-college   Never-married        ?                   Female  0             40              <=50K     18\n",
       "                                                                                                                                 ..\n",
       "34    Private            Assoc-acdm     Divorced             Sales               Female  0             45              <=50K      1\n",
       "                                                             Prof-specialty      Female  0             40              <=50K      1\n",
       "                                                             Machine-op-inspct   Male    0             40              <=50K      1\n",
       "                                                             Exec-managerial     Female  0             45              <=50K      1\n",
       "90    Self-emp-not-inc   Some-college   Married-civ-spouse   Farming-fishing     Male    0             40              <=50K      1\n",
       "Name: count, Length: 26313, dtype: int64"
      ]
     },
     "execution_count": 16,
     "metadata": {},
     "output_type": "execute_result"
    }
   ],
   "source": [
    "df.value_counts()"
   ]
  },
  {
   "cell_type": "code",
   "execution_count": null,
   "id": "de5ac1fe",
   "metadata": {},
   "outputs": [
    {
     "data": {
      "text/plain": [
       "array([40, 13, 16, 45, 50, 80, 30, 35, 60, 20, 52, 44, 15, 25, 38, 43, 55,\n",
       "       48, 58, 32, 70,  2, 22, 56, 41, 28, 36, 24, 46, 42, 12, 65,  1, 10,\n",
       "       34, 75, 98, 33, 54,  8,  6, 64, 19, 18, 72,  5,  9, 47, 37, 21, 26,\n",
       "       14,  4, 59,  7, 99, 53, 39, 62, 57, 78, 90, 66, 11, 49, 84,  3, 17,\n",
       "       68, 27, 85, 31, 51, 77, 63, 23, 87, 88, 73, 89, 97, 94, 29, 96, 67,\n",
       "       82, 86, 91, 81, 76, 92, 61, 74, 95], dtype=int64)"
      ]
     },
     "execution_count": 18,
     "metadata": {},
     "output_type": "execute_result"
    }
   ],
   "source": [
    "# Explorar las variables (por ejemplo los valores únicos)\n",
    "df[\"hours-per-week\"].unique()"
   ]
  },
  {
   "cell_type": "code",
   "execution_count": 19,
   "id": "fd4af174",
   "metadata": {},
   "outputs": [
    {
     "data": {
      "text/plain": [
       "array([ 2174,     0, 14084,  5178,  5013,  2407, 14344, 15024,  7688,\n",
       "       34095,  4064,  4386,  7298,  1409,  3674,  1055,  3464,  2050,\n",
       "        2176,   594, 20051,  6849,  4101,  1111,  8614,  3411,  2597,\n",
       "       25236,  4650,  9386,  2463,  3103, 10605,  2964,  3325,  2580,\n",
       "        3471,  4865, 99999,  6514,  1471,  2329,  2105,  2885, 25124,\n",
       "       10520,  2202,  2961, 27828,  6767,  2228,  1506, 13550,  2635,\n",
       "        5556,  4787,  3781,  3137,  3818,  3942,   914,   401,  2829,\n",
       "        2977,  4934,  2062,  2354,  5455, 15020,  1424,  3273, 22040,\n",
       "        4416,  3908, 10566,   991,  4931,  1086,  7430,  6497,   114,\n",
       "        7896,  2346,  3418,  3432,  2907,  1151,  2414,  2290, 15831,\n",
       "       41310,  4508,  2538,  3456,  6418,  1848,  3887,  5721,  9562,\n",
       "        1455,  2036,  1831, 11678,  2936,  2993,  7443,  6360,  1797,\n",
       "        1173,  4687,  6723,  2009,  6097,  2653,  1639, 18481,  7978,\n",
       "        2387,  5060], dtype=int64)"
      ]
     },
     "execution_count": 19,
     "metadata": {},
     "output_type": "execute_result"
    }
   ],
   "source": [
    "df[\"capital-gain\"].unique()"
   ]
  }
 ],
 "metadata": {
  "kernelspec": {
   "display_name": "Python (CEIA)",
   "language": "python",
   "name": "ceia-analisis-de-datos"
  },
  "language_info": {
   "codemirror_mode": {
    "name": "ipython",
    "version": 3
   },
   "file_extension": ".py",
   "mimetype": "text/x-python",
   "name": "python",
   "nbconvert_exporter": "python",
   "pygments_lexer": "ipython3",
   "version": "3.11.9"
  }
 },
 "nbformat": 4,
 "nbformat_minor": 5
}
